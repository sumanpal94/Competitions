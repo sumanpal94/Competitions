{
 "cells": [
  {
   "cell_type": "code",
   "execution_count": 1,
   "metadata": {
    "_cell_guid": "b1076dfc-b9ad-4769-8c92-a6c4dae69d19",
    "_uuid": "8f2839f25d086af736a60e9eeb907d3b93b6e0e5"
   },
   "outputs": [],
   "source": [
    "import numpy as np \n",
    "import pandas as pd \n",
    "import matplotlib.pyplot as plt\n",
    "import seaborn as sns\n",
    "from sklearn.model_selection import train_test_split\n",
    "from sklearn.feature_extraction.text import CountVectorizer\n",
    "from sklearn.metrics import accuracy_score\n",
    "from sklearn.metrics import classification_report,confusion_matrix\n",
    "from sklearn.naive_bayes import MultinomialNB"
   ]
  },
  {
   "cell_type": "markdown",
   "metadata": {
    "_uuid": "b27c4e387356441705a17c681f0b0ec3c7f2d42d"
   },
   "source": [
    "**Import SMS Data**"
   ]
  },
  {
   "cell_type": "code",
   "execution_count": 19,
   "metadata": {
    "_cell_guid": "79c7e3d0-c299-4dcb-8224-4455121ee9b0",
    "_uuid": "d629ff2d2480ee46fbb7e2d37f6b5fab8052498a"
   },
   "outputs": [
    {
     "data": {
      "text/html": [
       "<div>\n",
       "<style scoped>\n",
       "    .dataframe tbody tr th:only-of-type {\n",
       "        vertical-align: middle;\n",
       "    }\n",
       "\n",
       "    .dataframe tbody tr th {\n",
       "        vertical-align: top;\n",
       "    }\n",
       "\n",
       "    .dataframe thead th {\n",
       "        text-align: right;\n",
       "    }\n",
       "</style>\n",
       "<table border=\"1\" class=\"dataframe\">\n",
       "  <thead>\n",
       "    <tr style=\"text-align: right;\">\n",
       "      <th></th>\n",
       "      <th>Type</th>\n",
       "      <th>Message</th>\n",
       "    </tr>\n",
       "  </thead>\n",
       "  <tbody>\n",
       "    <tr>\n",
       "      <th>0</th>\n",
       "      <td>Friendly</td>\n",
       "      <td>Es ilbcx jinslo zsclb, mnyrk.. Opycxyfxa slxk ...</td>\n",
       "    </tr>\n",
       "    <tr>\n",
       "      <th>1</th>\n",
       "      <td>Friendly</td>\n",
       "      <td>Iq xyn... Zsqclo wch i slc...</td>\n",
       "    </tr>\n",
       "    <tr>\n",
       "      <th>2</th>\n",
       "      <td>Friendly</td>\n",
       "      <td>Y til uyk us aynxk vsn... Y m yxnaytk bval uyk...</td>\n",
       "    </tr>\n",
       "    <tr>\n",
       "      <th>3</th>\n",
       "      <td>Friendly</td>\n",
       "      <td>Byv S tsl'b bvclq va osau bs iuh, va xcpau yns...</td>\n",
       "    </tr>\n",
       "    <tr>\n",
       "      <th>4</th>\n",
       "      <td>Hostile</td>\n",
       "      <td>XnaaUuo Lak bvana tynxclo cb'u faal 3 waaq'u l...</td>\n",
       "    </tr>\n",
       "  </tbody>\n",
       "</table>\n",
       "</div>"
      ],
      "text/plain": [
       "       Type                                            Message\n",
       "0  Friendly  Es ilbcx jinslo zsclb, mnyrk.. Opycxyfxa slxk ...\n",
       "1  Friendly                      Iq xyn... Zsqclo wch i slc...\n",
       "2  Friendly  Y til uyk us aynxk vsn... Y m yxnaytk bval uyk...\n",
       "3  Friendly  Byv S tsl'b bvclq va osau bs iuh, va xcpau yns...\n",
       "4   Hostile  XnaaUuo Lak bvana tynxclo cb'u faal 3 waaq'u l..."
      ]
     },
     "execution_count": 19,
     "metadata": {},
     "output_type": "execute_result"
    }
   ],
   "source": [
    "df = pd.read_csv('train.csv')\n",
    "df.head()"
   ]
  },
  {
   "cell_type": "code",
   "execution_count": 20,
   "metadata": {},
   "outputs": [
    {
     "data": {
      "text/html": [
       "<div>\n",
       "<style scoped>\n",
       "    .dataframe tbody tr th:only-of-type {\n",
       "        vertical-align: middle;\n",
       "    }\n",
       "\n",
       "    .dataframe tbody tr th {\n",
       "        vertical-align: top;\n",
       "    }\n",
       "\n",
       "    .dataframe thead th {\n",
       "        text-align: right;\n",
       "    }\n",
       "</style>\n",
       "<table border=\"1\" class=\"dataframe\">\n",
       "  <thead>\n",
       "    <tr style=\"text-align: right;\">\n",
       "      <th></th>\n",
       "      <th>Type</th>\n",
       "      <th>Message</th>\n",
       "    </tr>\n",
       "  </thead>\n",
       "  <tbody>\n",
       "    <tr>\n",
       "      <th>0</th>\n",
       "      <td>?</td>\n",
       "      <td>Xnaa albnk cl 2 y wqxk msez bs wcl XO Ciz hcly...</td>\n",
       "    </tr>\n",
       "    <tr>\n",
       "      <th>1</th>\n",
       "      <td>?</td>\n",
       "      <td>Ou zan ksin nagiaub 'Uaxxa Uaxxa (Ini Ucllyecl...</td>\n",
       "    </tr>\n",
       "    <tr>\n",
       "      <th>2</th>\n",
       "      <td>?</td>\n",
       "      <td>MSBBQD!! Ou y pyxiat labwsnq miubsean ksi vypa...</td>\n",
       "    </tr>\n",
       "    <tr>\n",
       "      <th>3</th>\n",
       "      <td>?</td>\n",
       "      <td>Xcla ch bvybåÕu bva wyk i haax. RvybåÕu bva wy...</td>\n",
       "    </tr>\n",
       "    <tr>\n",
       "      <th>4</th>\n",
       "      <td>?</td>\n",
       "      <td>Ziub hsnmat ekuaxh bs ayb y uxcma. S'e nayxxk ...</td>\n",
       "    </tr>\n",
       "  </tbody>\n",
       "</table>\n",
       "</div>"
      ],
      "text/plain": [
       "  Type                                            Message\n",
       "0    ?  Xnaa albnk cl 2 y wqxk msez bs wcl XO Ciz hcly...\n",
       "1    ?  Ou zan ksin nagiaub 'Uaxxa Uaxxa (Ini Ucllyecl...\n",
       "2    ?  MSBBQD!! Ou y pyxiat labwsnq miubsean ksi vypa...\n",
       "3    ?  Xcla ch bvybåÕu bva wyk i haax. RvybåÕu bva wy...\n",
       "4    ?  Ziub hsnmat ekuaxh bs ayb y uxcma. S'e nayxxk ..."
      ]
     },
     "execution_count": 20,
     "metadata": {},
     "output_type": "execute_result"
    }
   ],
   "source": [
    "df_test = pd.read_csv('test.csv')\n",
    "df_test.head()"
   ]
  },
  {
   "cell_type": "code",
   "execution_count": 3,
   "metadata": {
    "_uuid": "c27e21ac516046462ada2d95305034a4aadaaa60"
   },
   "outputs": [
    {
     "data": {
      "text/html": [
       "<div>\n",
       "<style scoped>\n",
       "    .dataframe tbody tr th:only-of-type {\n",
       "        vertical-align: middle;\n",
       "    }\n",
       "\n",
       "    .dataframe tbody tr th {\n",
       "        vertical-align: top;\n",
       "    }\n",
       "\n",
       "    .dataframe thead th {\n",
       "        text-align: right;\n",
       "    }\n",
       "</style>\n",
       "<table border=\"1\" class=\"dataframe\">\n",
       "  <thead>\n",
       "    <tr style=\"text-align: right;\">\n",
       "      <th></th>\n",
       "      <th>Type</th>\n",
       "      <th>Message</th>\n",
       "    </tr>\n",
       "  </thead>\n",
       "  <tbody>\n",
       "    <tr>\n",
       "      <th>count</th>\n",
       "      <td>4142</td>\n",
       "      <td>4142</td>\n",
       "    </tr>\n",
       "    <tr>\n",
       "      <th>unique</th>\n",
       "      <td>2</td>\n",
       "      <td>3906</td>\n",
       "    </tr>\n",
       "    <tr>\n",
       "      <th>top</th>\n",
       "      <td>Friendly</td>\n",
       "      <td>Ksnnk, S'xx myxx xyban</td>\n",
       "    </tr>\n",
       "    <tr>\n",
       "      <th>freq</th>\n",
       "      <td>3585</td>\n",
       "      <td>26</td>\n",
       "    </tr>\n",
       "  </tbody>\n",
       "</table>\n",
       "</div>"
      ],
      "text/plain": [
       "            Type                 Message\n",
       "count       4142                    4142\n",
       "unique         2                    3906\n",
       "top     Friendly  Ksnnk, S'xx myxx xyban\n",
       "freq        3585                      26"
      ]
     },
     "execution_count": 3,
     "metadata": {},
     "output_type": "execute_result"
    }
   ],
   "source": [
    "#Find count and unique messages count of all the messages\n",
    "df.describe()"
   ]
  },
  {
   "cell_type": "code",
   "execution_count": 6,
   "metadata": {
    "_uuid": "9121ad27c64170685ccafeea16056f2c9867dfd7"
   },
   "outputs": [
    {
     "data": {
      "text/html": [
       "<div>\n",
       "<style scoped>\n",
       "    .dataframe tbody tr th:only-of-type {\n",
       "        vertical-align: middle;\n",
       "    }\n",
       "\n",
       "    .dataframe tbody tr th {\n",
       "        vertical-align: top;\n",
       "    }\n",
       "\n",
       "    .dataframe thead th {\n",
       "        text-align: right;\n",
       "    }\n",
       "</style>\n",
       "<table border=\"1\" class=\"dataframe\">\n",
       "  <thead>\n",
       "    <tr style=\"text-align: right;\">\n",
       "      <th></th>\n",
       "      <th>Type</th>\n",
       "      <th>Message</th>\n",
       "    </tr>\n",
       "  </thead>\n",
       "  <tbody>\n",
       "    <tr>\n",
       "      <th>4</th>\n",
       "      <td>Hostile</td>\n",
       "      <td>XnaaUuo Lak bvana tynxclo cb'u faal 3 waaq'u l...</td>\n",
       "    </tr>\n",
       "    <tr>\n",
       "      <th>6</th>\n",
       "      <td>Hostile</td>\n",
       "      <td>Lyt ksin esfcxa 11 eslbvu sn esna? Y D albcbxa...</td>\n",
       "    </tr>\n",
       "    <tr>\n",
       "      <th>8</th>\n",
       "      <td>Hostile</td>\n",
       "      <td>KST mvylmau bs wcl COKL! Xnse 100 bs 20,000 zs...</td>\n",
       "    </tr>\n",
       "    <tr>\n",
       "      <th>9</th>\n",
       "      <td>Hostile</td>\n",
       "      <td>YDEQBR! Asi vypa wsl y 1 waaq XDQQ eaefanuvcz ...</td>\n",
       "    </tr>\n",
       "    <tr>\n",
       "      <th>12</th>\n",
       "      <td>Hostile</td>\n",
       "      <td>TTTUsfcxaUspcaCxif: Rs iua ksin mnatcb, mxcmq ...</td>\n",
       "    </tr>\n",
       "  </tbody>\n",
       "</table>\n",
       "</div>"
      ],
      "text/plain": [
       "       Type                                            Message\n",
       "4   Hostile  XnaaUuo Lak bvana tynxclo cb'u faal 3 waaq'u l...\n",
       "6   Hostile  Lyt ksin esfcxa 11 eslbvu sn esna? Y D albcbxa...\n",
       "8   Hostile  KST mvylmau bs wcl COKL! Xnse 100 bs 20,000 zs...\n",
       "9   Hostile  YDEQBR! Asi vypa wsl y 1 waaq XDQQ eaefanuvcz ...\n",
       "12  Hostile  TTTUsfcxaUspcaCxif: Rs iua ksin mnatcb, mxcmq ..."
      ]
     },
     "execution_count": 6,
     "metadata": {},
     "output_type": "execute_result"
    }
   ],
   "source": [
    "#Extract SPAM messages\n",
    "spam_messages = df[df[\"Type\"]==\"Hostile\"]\n",
    "spam_messages.head() #Display first 5 rows of SPAM messages"
   ]
  },
  {
   "cell_type": "code",
   "execution_count": 7,
   "metadata": {
    "_uuid": "72138bb6a6beb57961abdfdbefd2e5e4d4513a0d"
   },
   "outputs": [
    {
     "data": {
      "text/html": [
       "<div>\n",
       "<style scoped>\n",
       "    .dataframe tbody tr th:only-of-type {\n",
       "        vertical-align: middle;\n",
       "    }\n",
       "\n",
       "    .dataframe tbody tr th {\n",
       "        vertical-align: top;\n",
       "    }\n",
       "\n",
       "    .dataframe thead th {\n",
       "        text-align: right;\n",
       "    }\n",
       "</style>\n",
       "<table border=\"1\" class=\"dataframe\">\n",
       "  <thead>\n",
       "    <tr style=\"text-align: right;\">\n",
       "      <th></th>\n",
       "      <th>Type</th>\n",
       "      <th>Message</th>\n",
       "    </tr>\n",
       "  </thead>\n",
       "  <tbody>\n",
       "    <tr>\n",
       "      <th>count</th>\n",
       "      <td>557</td>\n",
       "      <td>557</td>\n",
       "    </tr>\n",
       "    <tr>\n",
       "      <th>unique</th>\n",
       "      <td>1</td>\n",
       "      <td>501</td>\n",
       "    </tr>\n",
       "    <tr>\n",
       "      <th>top</th>\n",
       "      <td>Hostile</td>\n",
       "      <td>Pxayua myxx sin miubsean uanpcma naznaualbybcp...</td>\n",
       "    </tr>\n",
       "    <tr>\n",
       "      <th>freq</th>\n",
       "      <td>557</td>\n",
       "      <td>3</td>\n",
       "    </tr>\n",
       "  </tbody>\n",
       "</table>\n",
       "</div>"
      ],
      "text/plain": [
       "           Type                                            Message\n",
       "count       557                                                557\n",
       "unique        1                                                501\n",
       "top     Hostile  Pxayua myxx sin miubsean uanpcma naznaualbybcp...\n",
       "freq        557                                                  3"
      ]
     },
     "execution_count": 7,
     "metadata": {},
     "output_type": "execute_result"
    }
   ],
   "source": [
    "#Find count and unique messages count of SPAM messages.\n",
    "spam_messages.describe()"
   ]
  },
  {
   "cell_type": "code",
   "execution_count": 8,
   "metadata": {
    "_uuid": "5229323731b3d2a62c351b78188b88a69e57722c"
   },
   "outputs": [
    {
     "data": {
      "image/png": "[encoded data removed]",
      "text/plain": [
       "<Figure size 432x288 with 1 Axes>"
      ]
     },
     "metadata": {
      "needs_background": "light"
     },
     "output_type": "display_data"
    }
   ],
   "source": [
    "#Plot the counts of HAM (non SPAM) vs SPAM\n",
    "sns.countplot(data = df, x= df[\"Type\"]).set_title(\"Amount of hostile and friendly messages\")\n",
    "plt.show()"
   ]
  },
  {
   "cell_type": "markdown",
   "metadata": {
    "_uuid": "2b7f4ee415e89d58f78f2772d8ea3f4378d1f7e5"
   },
   "source": [
    "**Splitting the SMS data into Test and Train data**"
   ]
  },
  {
   "cell_type": "code",
   "execution_count": 10,
   "metadata": {
    "_uuid": "818e35ee7fbf867367f5d5d82d9f5fe654e547c0"
   },
   "outputs": [
    {
     "name": "stdout",
     "output_type": "stream",
     "text": [
      "data_train, labels_train :  (3313,) (3313,)\n",
      "data_test, labels_test:  (829,) (829,)\n"
     ]
    }
   ],
   "source": [
    "data_train, data_test, labels_train, labels_test = train_test_split(df.Message,df.Type,test_size=0.2,random_state=0) \n",
    "print(\"data_train, labels_train : \",data_train.shape, labels_train.shape)\n",
    "print(\"data_test, labels_test: \",data_test.shape, labels_test.shape)"
   ]
  },
  {
   "cell_type": "code",
   "execution_count": 22,
   "metadata": {},
   "outputs": [
    {
     "data": {
      "text/plain": [
       "0    Xnaa albnk cl 2 y wqxk msez bs wcl XO Ciz hcly...\n",
       "1    Ou zan ksin nagiaub 'Uaxxa Uaxxa (Ini Ucllyecl...\n",
       "2    MSBBQD!! Ou y pyxiat labwsnq miubsean ksi vypa...\n",
       "3    Xcla ch bvybåÕu bva wyk i haax. RvybåÕu bva wy...\n",
       "4    Ziub hsnmat ekuaxh bs ayb y uxcma. S'e nayxxk ...\n",
       "Name: Message, dtype: object"
      ]
     },
     "execution_count": 22,
     "metadata": {},
     "output_type": "execute_result"
    }
   ],
   "source": [
    "data_test2=df_test.Message\n",
    "data_test2.head()"
   ]
  },
  {
   "cell_type": "markdown",
   "metadata": {
    "_uuid": "8cb669bdbf08cefab62a1f96f817d5d29ceb325c"
   },
   "source": [
    "**Extraction & CountVectorize**\n",
    "\n",
    "\n",
    "*The CountVectorizer provides a simple way to both tokenize a collection of text documents and build a vocabulary of known words, but also to encode new documents using that vocabulary.*"
   ]
  },
  {
   "cell_type": "code",
   "execution_count": 23,
   "metadata": {
    "_uuid": "53a5db99c0b770c2d33fac02757c84574689bd83"
   },
   "outputs": [],
   "source": [
    "vectorizer = CountVectorizer()\n",
    "#fit & transform\n",
    "# fit: build dict (i.e. word->wordID)  \n",
    "# transform: convert document (i.e. each line in the file) to word vector \n",
    "data_train_count = vectorizer.fit_transform(data_train)\n",
    "data_test_count  = vectorizer.transform(data_test)\n",
    "data_test_count2 = vectorizer.transform(data_test2)"
   ]
  },
  {
   "cell_type": "markdown",
   "metadata": {
    "_uuid": "6d4d21c2616471131a030a878bcc22dc20e0811c"
   },
   "source": [
    "**Modelling & training**"
   ]
  },
  {
   "cell_type": "markdown",
   "metadata": {
    "_uuid": "1c26590bb1d323bdd6ea472b1f54dae4316ca873"
   },
   "source": [
    "Multinomial Naive Bayes is a specialized version of Naive Bayes that is designed more for text documents. Whereas simple naive Bayes would model a document as the presence and absence of particular words, multinomial naive bayes explicitly models the word counts and adjusts the underlying calculations to deal with in.\n",
    "\n",
    "It is a classification technique based on Bayes' Theorem with an assumption of independence among predictors. In simple terms, a Naive Bayes classifier assumes that the presence of a particular feature in a class is unrelated to the presence of any other feature."
   ]
  },
  {
   "cell_type": "code",
   "execution_count": 60,
   "metadata": {
    "_uuid": "dc96fa82122a137e8e6edc5f9291993072c44a6a"
   },
   "outputs": [
    {
     "name": "stdout",
     "output_type": "stream",
     "text": [
      "accuracy_score :  0.9867310012062727\n",
      "accuracy_score :  0.9867310012062727\n",
      "accuracy_score :  0.9879372738238842\n",
      "accuracy_score :  0.9891435464414958\n",
      "accuracy_score :  0.9891435464414958\n",
      "accuracy_score :  0.9891435464414958\n",
      "accuracy_score :  0.9891435464414958\n",
      "accuracy_score :  0.9891435464414958\n",
      "accuracy_score :  0.9891435464414958\n",
      "accuracy_score :  0.9879372738238842\n",
      "accuracy_score :  0.9879372738238842\n",
      "accuracy_score :  0.9879372738238842\n",
      "accuracy_score :  0.9879372738238842\n",
      "accuracy_score :  0.9891435464414958\n",
      "accuracy_score :  0.9891435464414958\n",
      "accuracy_score :  0.9891435464414958\n",
      "accuracy_score :  0.9891435464414958\n",
      "accuracy_score :  0.9891435464414958\n",
      "accuracy_score :  0.9891435464414958\n"
     ]
    }
   ],
   "source": [
    "for i in range(1,20):\n",
    "     clf = MultinomialNB(alpha=i/200)\n",
    "     clf.fit(data_train_count, labels_train)\n",
    "     predictions = clf.predict(data_test_count)\n",
    "     print (\"accuracy_score : \", accuracy_score(labels_test, predictions))"
   ]
  },
  {
   "cell_type": "markdown",
   "metadata": {
    "_uuid": "87d223bf1c987167d91a804e49371f9547e45e26"
   },
   "source": [
    "**Results and Accuracy**"
   ]
  },
  {
   "cell_type": "code",
   "execution_count": 56,
   "metadata": {
    "_uuid": "4206146b1c95a14aa00db3e2255e26ab5febc297"
   },
   "outputs": [],
   "source": [
    "MultinomialNB?"
   ]
  },
  {
   "cell_type": "markdown",
   "metadata": {
    "_uuid": "1a3383bd4f9a683c56edf37e20b66090e76035ee"
   },
   "source": [
    "**Confusion Matrix**\n",
    "\n",
    "\n",
    "*A confusion matrix is a table that is often used to describe the performance of a classification model (or “classifier”) on a set of test data for which the true values are known. It allows the visualization of the performance of an algorithm.*"
   ]
  },
  {
   "cell_type": "code",
   "execution_count": 61,
   "metadata": {
    "_uuid": "98fcfccb11c4209661ead1774af9f1252e6e4fc4"
   },
   "outputs": [
    {
     "name": "stdout",
     "output_type": "stream",
     "text": [
      "confusion_matrix : \n",
      " [[708   1]\n",
      " [  8 112]]\n"
     ]
    }
   ],
   "source": [
    "print (\"confusion_matrix : \\n\", confusion_matrix(labels_test, predictions))"
   ]
  },
  {
   "cell_type": "code",
   "execution_count": 62,
   "metadata": {
    "_uuid": "08b9edae6ada6fad7a1590b5d00ee5c27bd001f1"
   },
   "outputs": [
    {
     "name": "stdout",
     "output_type": "stream",
     "text": [
      "              precision    recall  f1-score   support\n",
      "\n",
      "    Friendly       0.99      1.00      0.99       709\n",
      "     Hostile       0.99      0.93      0.96       120\n",
      "\n",
      "    accuracy                           0.99       829\n",
      "   macro avg       0.99      0.97      0.98       829\n",
      "weighted avg       0.99      0.99      0.99       829\n",
      "\n"
     ]
    }
   ],
   "source": [
    "print (classification_report(labels_test, predictions))"
   ]
  },
  {
   "cell_type": "code",
   "execution_count": 51,
   "metadata": {},
   "outputs": [],
   "source": [
    "predictions_test = clf.predict(data_test_count2)"
   ]
  },
  {
   "cell_type": "code",
   "execution_count": 53,
   "metadata": {},
   "outputs": [],
   "source": [
    "df_predictions_test=pd.DataFrame(predictions_test)\n",
    "df_predictions_test.to_csv('predictions_test1.csv')"
   ]
  },
  {
   "cell_type": "code",
   "execution_count": null,
   "metadata": {},
   "outputs": [],
   "source": [
    "clf = MultinomialNB()\n",
    "clf.fit(data_train_count, labels_train)\n",
    "predictions = clf.predict(data_test_count)"
   ]
  },
  {
   "cell_type": "code",
   "execution_count": 31,
   "metadata": {},
   "outputs": [],
   "source": [
    "import numpy as np\n",
    "\n",
    "from scipy.stats import uniform, randint\n",
    "\n",
    "from sklearn.datasets import load_breast_cancer, load_diabetes, load_wine\n",
    "from sklearn.metrics import auc, accuracy_score, confusion_matrix, mean_squared_error\n",
    "from sklearn.model_selection import cross_val_score, GridSearchCV, KFold, RandomizedSearchCV, train_test_split\n",
    "\n",
    "import xgboost as xgb"
   ]
  },
  {
   "cell_type": "code",
   "execution_count": 32,
   "metadata": {},
   "outputs": [
    {
     "name": "stdout",
     "output_type": "stream",
     "text": [
      "[[709   0]\n",
      " [ 27  93]]\n",
      "accuracy_score :  0.9674306393244874\n"
     ]
    }
   ],
   "source": [
    "xgb_model = xgb.XGBClassifier(objective=\"binary:logistic\", random_state=42)\n",
    "xgb_model.fit(data_train_count, labels_train)\n",
    "\n",
    "y_pred = xgb_model.predict(data_test_count)\n",
    "\n",
    "print(confusion_matrix(labels_test, y_pred))\n",
    "\n",
    "print (\"accuracy_score : \", accuracy_score(labels_test, y_pred))"
   ]
  },
  {
   "cell_type": "code",
   "execution_count": 33,
   "metadata": {},
   "outputs": [],
   "source": [
    "predictions_test_xgb = xgb_model.predict(data_test_count2)\n",
    "df_predictions_test_xgb=pd.DataFrame(predictions_test_xgb)\n",
    "df_predictions_test_xgb.to_csv('predictions_test_xgb.csv')"
   ]
  },
  {
   "cell_type": "code",
   "execution_count": null,
   "metadata": {},
   "outputs": [],
   "source": []
  }
 ],
 "metadata": {
  "kernelspec": {
   "display_name": "Python 3",
   "language": "python",
   "name": "python3"
  },
  "language_info": {
   "codemirror_mode": {
    "name": "ipython",
    "version": 3
   },
   "file_extension": ".py",
   "mimetype": "text/x-python",
   "name": "python",
   "nbconvert_exporter": "python",
   "pygments_lexer": "ipython3",
   "version": "3.7.3"
  }
 },
 "nbformat": 4,
 "nbformat_minor": 1
}
