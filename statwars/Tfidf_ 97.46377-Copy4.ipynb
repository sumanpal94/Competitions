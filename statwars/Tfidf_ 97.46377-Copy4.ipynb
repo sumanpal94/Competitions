{
 "cells": [
  {
   "cell_type": "code",
   "execution_count": null,
   "metadata": {
    "_cell_guid": "b1076dfc-b9ad-4769-8c92-a6c4dae69d19",
    "_uuid": "8f2839f25d086af736a60e9eeb907d3b93b6e0e5"
   },
   "outputs": [],
   "source": [
    "import numpy as np \n",
    "import pandas as pd \n",
    "import matplotlib.pyplot as plt\n",
    "import seaborn as sns\n",
    "from sklearn.model_selection import train_test_split\n",
    "from sklearn.feature_extraction.text import CountVectorizer\n",
    "from sklearn.feature_extraction.text import TfidfVectorizer\n",
    "from sklearn.metrics import accuracy_score\n",
    "from sklearn.metrics import classification_report,confusion_matrix\n",
    "from sklearn.naive_bayes import MultinomialNB"
   ]
  },
  {
   "cell_type": "code",
   "execution_count": null,
   "metadata": {
    "_cell_guid": "79c7e3d0-c299-4dcb-8224-4455121ee9b0",
    "_uuid": "d629ff2d2480ee46fbb7e2d37f6b5fab8052498a"
   },
   "outputs": [],
   "source": [
    "df = pd.read_csv('train.csv')\n",
    "df.head()\n",
    "\n",
    "X=df['Message']\n",
    "Y=df['Type']"
   ]
  },
  {
   "cell_type": "code",
   "execution_count": null,
   "metadata": {},
   "outputs": [],
   "source": [
    "df_test = pd.read_csv('test.csv')\n",
    "df_test.head()\n",
    "\n",
    "X_test1=df_test['Message']\n",
    "Y_test1=df_test['Type']"
   ]
  },
  {
   "cell_type": "code",
   "execution_count": null,
   "metadata": {
    "_uuid": "c27e21ac516046462ada2d95305034a4aadaaa60"
   },
   "outputs": [],
   "source": [
    "df.describe()"
   ]
  },
  {
   "cell_type": "code",
   "execution_count": null,
   "metadata": {
    "_uuid": "9121ad27c64170685ccafeea16056f2c9867dfd7"
   },
   "outputs": [],
   "source": [
    "spam_messages = df[df[\"Type\"]==\"Hostile\"]\n",
    "spam_messages.head()"
   ]
  },
  {
   "cell_type": "code",
   "execution_count": null,
   "metadata": {
    "_uuid": "72138bb6a6beb57961abdfdbefd2e5e4d4513a0d"
   },
   "outputs": [],
   "source": [
    "spam_messages.describe()"
   ]
  },
  {
   "cell_type": "code",
   "execution_count": null,
   "metadata": {
    "_uuid": "5229323731b3d2a62c351b78188b88a69e57722c"
   },
   "outputs": [],
   "source": [
    "sns.countplot(data = df, x= df[\"Type\"]).set_title(\"Amount of hostile and friendly messages\")\n",
    "plt.show()"
   ]
  },
  {
   "cell_type": "markdown",
   "metadata": {
    "_uuid": "2b7f4ee415e89d58f78f2772d8ea3f4378d1f7e5"
   },
   "source": [
    "**Splitting the SMS data into Test and Train data**"
   ]
  },
  {
   "cell_type": "code",
   "execution_count": null,
   "metadata": {
    "_uuid": "818e35ee7fbf867367f5d5d82d9f5fe654e547c0"
   },
   "outputs": [],
   "source": [
    "data_train, data_test, labels_train, labels_test = train_test_split(X,Y,test_size=0.2,random_state=0) \n",
    "print(\"data_train, labels_train : \",data_train.shape, labels_train.shape)\n",
    "print(\"data_test, labels_test: \",data_test.shape, labels_test.shape)"
   ]
  },
  {
   "cell_type": "code",
   "execution_count": null,
   "metadata": {
    "_uuid": "53a5db99c0b770c2d33fac02757c84574689bd83"
   },
   "outputs": [],
   "source": [
    "vectorizer = CountVectorizer()\n",
    "tfidf_vectorizer = TfidfVectorizer(analyzer = 'char', max_df=0.3,ngram_range=(1,8))\n",
    "tfidf = tfidf_vectorizer.fit(data_train)\n",
    "data_train_count  = tfidf.transform(data_train)\n",
    "data_test_count  = tfidf.transform(data_test)\n",
    "data_test_count2 = tfidf.transform(X_test1)"
   ]
  },
  {
   "cell_type": "code",
   "execution_count": null,
   "metadata": {},
   "outputs": [],
   "source": [
    "data_test_count.shape, data_test_count2.shape"
   ]
  },
  {
   "cell_type": "code",
   "execution_count": 289,
   "metadata": {
    "_uuid": "dc96fa82122a137e8e6edc5f9291993072c44a6a"
   },
   "outputs": [
    {
     "name": "stdout",
     "output_type": "stream",
     "text": [
      "accuracy_score :  0.9891435464414958\n"
     ]
    }
   ],
   "source": [
    "for i in range(1):\n",
    "    clf = MultinomialNB(alpha=.0044)\n",
    "    clf.fit(data_train_count, labels_train)\n",
    "    predictions = clf.predict(data_test_count)\n",
    "    print (\"accuracy_score : \", accuracy_score(labels_test, predictions))"
   ]
  },
  {
   "cell_type": "code",
   "execution_count": 290,
   "metadata": {
    "_uuid": "4206146b1c95a14aa00db3e2255e26ab5febc297"
   },
   "outputs": [
    {
     "name": "stdout",
     "output_type": "stream",
     "text": [
      "accuracy_score :  0.9891435464414958\n"
     ]
    }
   ],
   "source": [
    "print (\"accuracy_score : \", accuracy_score(labels_test, predictions))"
   ]
  },
  {
   "cell_type": "code",
   "execution_count": 291,
   "metadata": {
    "_uuid": "98fcfccb11c4209661ead1774af9f1252e6e4fc4"
   },
   "outputs": [
    {
     "name": "stdout",
     "output_type": "stream",
     "text": [
      "confusion_matrix : \n",
      " [[707   2]\n",
      " [  7 113]]\n"
     ]
    }
   ],
   "source": [
    "print (\"confusion_matrix : \\n\", confusion_matrix(labels_test, predictions))"
   ]
  },
  {
   "cell_type": "code",
   "execution_count": 292,
   "metadata": {
    "_uuid": "08b9edae6ada6fad7a1590b5d00ee5c27bd001f1"
   },
   "outputs": [
    {
     "name": "stdout",
     "output_type": "stream",
     "text": [
      "              precision    recall  f1-score   support\n",
      "\n",
      "    Friendly       0.99      1.00      0.99       709\n",
      "     Hostile       0.98      0.94      0.96       120\n",
      "\n",
      "    accuracy                           0.99       829\n",
      "   macro avg       0.99      0.97      0.98       829\n",
      "weighted avg       0.99      0.99      0.99       829\n",
      "\n"
     ]
    }
   ],
   "source": [
    "print (classification_report(labels_test, predictions))"
   ]
  },
  {
   "cell_type": "code",
   "execution_count": 293,
   "metadata": {},
   "outputs": [],
   "source": [
    "predictions_test = clf.predict(data_test_count2)"
   ]
  },
  {
   "cell_type": "code",
   "execution_count": 294,
   "metadata": {},
   "outputs": [],
   "source": [
    "df_predictions_test=pd.DataFrame(predictions_test)\n",
    "df_predictions_test.to_csv('predictions_test2_cv.csv')"
   ]
  }
 ],
 "metadata": {
  "kernelspec": {
   "display_name": "Python 3",
   "language": "python",
   "name": "python3"
  },
  "language_info": {
   "codemirror_mode": {
    "name": "ipython",
    "version": 3
   },
   "file_extension": ".py",
   "mimetype": "text/x-python",
   "name": "python",
   "nbconvert_exporter": "python",
   "pygments_lexer": "ipython3",
   "version": "3.7.3"
  }
 },
 "nbformat": 4,
 "nbformat_minor": 1
}
